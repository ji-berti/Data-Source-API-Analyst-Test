{
  "cells": [
    {
      "cell_type": "code",
      "execution_count": null,
      "metadata": {
        "id": "QiTDkpYF69Ij"
      },
      "outputs": [],
      "source": [
        "import requests\n",
        "import json\n",
        "from google.colab import userdata\n",
        "import sys\n",
        "import logging\n"
      ]
    },
    {
      "cell_type": "code",
      "execution_count": 18,
      "metadata": {
        "id": "s1IXfbR27c6J"
      },
      "outputs": [],
      "source": [
        "logger = logging.getLogger()\n",
        "logger.setLevel(logging.INFO)\n",
        "\n",
        "if logger.hasHandlers():\n",
        "    logger.handlers.clear()\n",
        "\n",
        "formatter = logging.Formatter('%(asctime)s - %(levelname)s - %(message)s')\n",
        "\n",
        "file_handler = logging.FileHandler(\"api_extraction.log\")\n",
        "file_handler.setFormatter(formatter)\n",
        "stream_handler = logging.StreamHandler()\n",
        "stream_handler.setFormatter(formatter)\n",
        "\n",
        "logger.addHandler(file_handler)\n",
        "logger.addHandler(stream_handler)"
      ]
    },
    {
      "cell_type": "code",
      "execution_count": 19,
      "metadata": {
        "id": "hpI5fGfg-ZDF"
      },
      "outputs": [],
      "source": [
        "try:\n",
        "  GITHUB_TOKEN = userdata.get('GITHUB_TOKEN')\n",
        "except userdata.SecretNotFoundError:\n",
        "  print('Secret not found. Add the token to Colab Secrets.')\n",
        "\n",
        "if not GITHUB_TOKEN:\n",
        "  sys.exit('GITHUB TOKEN not found')\n",
        "\n",
        "headers ={\n",
        "    'Authorization': f'token {GITHUB_TOKEN}',\n",
        "    'Accept': 'application/vnd.github+json',\n",
        "    'X-GitHub-Api-Version': '2022-11-28'\n",
        "}\n"
      ]
    },
    {
      "cell_type": "code",
      "execution_count": 22,
      "metadata": {
        "id": "NPsYjGd4_azk"
      },
      "outputs": [],
      "source": [
        "def check_rate_limit(response):\n",
        "  limit = response.headers.get('X-RateLimit-Limit')\n",
        "  remaining_limit= response.headers.get('X-RateLimit-Remaining')\n",
        "  # logging.info(f'Remaining limit: {remaining_limit}/{limit}')\n",
        "\n",
        "def search_repository(query, max_pages = 3):\n",
        "  # logging.info(f'Searching for {query}')\n",
        "  search_url = f'https://api.github.com/search/repositories'\n",
        "  results = []\n",
        "  page = 1\n",
        "\n",
        "  while page <= max_pages:\n",
        "    params = {\n",
        "        'q': query,\n",
        "        'per_page': 100,\n",
        "        'page': page\n",
        "    }\n",
        "    try:\n",
        "      response = requests.get(search_url, headers= headers, params=params)\n",
        "      response.raise_for_status()\n",
        "      check_rate_limit(response)\n",
        "      data = response.json()\n",
        "      for item in data['items']:\n",
        "        results.append({\n",
        "            'id': item['id'],\n",
        "            'full_name': item['full_name'],\n",
        "            'url': item['html_url'],\n",
        "            'stars': item['stargazers_count']\n",
        "        })\n",
        "      logging.info(f'Page {page} processed correctly, total results {len(results)}')\n",
        "      page += 1\n",
        "\n",
        "    except requests.exceptions.RequestException as e:\n",
        "      logging.error(f'Error while searching repositories. (Query: {query}) : {e}')\n",
        "    except requests.exceptions.HTTPError as e:\n",
        "      logging.error(f'HTTP Error. (Query: {query}) : {e}, Response text: {e.response.text}')\n",
        "      break\n",
        "\n",
        "    except Exception as e:\n",
        "      logging.critical(f'Critical error while searching repositories. (Query : {query}) : {e}')\n",
        "      break\n",
        "\n",
        "  return results"
      ]
    },
    {
      "cell_type": "code",
      "execution_count": 21,
      "metadata": {
        "colab": {
          "base_uri": "https://localhost:8080/"
        },
        "id": "NjuIaNfH-iEg",
        "outputId": "816c7521-d630-43cf-f759-c36c11748101"
      },
      "outputs": [
        {
          "name": "stderr",
          "output_type": "stream",
          "text": [
            "2025-06-30 04:16:18,761 - INFO - Searching for python data analysis\n",
            "2025-06-30 04:16:21,005 - INFO - Page 1 processed correctly, total results 100\n"
          ]
        },
        {
          "name": "stdout",
          "output_type": "stream",
          "text": [
            "Remaining limit: 29/30\n"
          ]
        },
        {
          "name": "stderr",
          "output_type": "stream",
          "text": [
            "2025-06-30 04:16:23,183 - INFO - Page 2 processed correctly, total results 200\n"
          ]
        },
        {
          "name": "stdout",
          "output_type": "stream",
          "text": [
            "Remaining limit: 28/30\n",
            "[\n",
            "  {\n",
            "    \"id\": 85111422,\n",
            "    \"full_name\": \"WillKoehrsen/Data-Analysis\",\n",
            "    \"url\": \"https://github.com/WillKoehrsen/Data-Analysis\",\n",
            "    \"stars\": 5345\n",
            "  },\n",
            "  {\n",
            "    \"id\": 43759462,\n",
            "    \"full_name\": \"ujjwalkarn/DataSciencePython\",\n",
            "    \"url\": \"https://github.com/ujjwalkarn/DataSciencePython\",\n",
            "    \"stars\": 5458\n",
            "  },\n",
            "  {\n",
            "    \"id\": 138245018,\n",
            "    \"full_name\": \"iamseancheney/python_for_data_analysis_2nd_chinese_version\",\n",
            "    \"url\": \"https://github.com/iamseancheney/python_for_data_analysis_2nd_chinese_version\",\n",
            "    \"stars\": 8389\n",
            "  },\n",
            "  {\n",
            "    \"id\": 10648016,\n",
            "    \"full_name\": \"fonnesbeck/statistical-analysis-python-tutorial\",\n",
            "    \"url\": \"https://github.com/fonnesbeck/statistical-analysis-python-tutorial\",\n",
            "    \"stars\": 1611\n",
            "  },\n",
            "  {\n",
            "    \"id\": 108740787,\n",
            "    \"full_name\": \"apachecn/python_data_analysis_and_mining_action\",\n",
            "    \"url\": \"https://github.com/apachecn/python_data_analysis_and_mining_action\",\n",
            "    \"stars\": 1767\n",
            "  },\n",
            "  {\n",
            "    \"id\": 30730072,\n",
            "    \"full_name\": \"rhiever/Data-Analysis-and-Machine-Learning-Projects\",\n",
            "    \"url\": \"https://github.com/rhiever/Data-Analysis-and-Machine-Learning-Projects\",\n",
            "    \"stars\": 6332\n",
            "  },\n",
            "  {\n",
            "    \"id\": 74525361,\n",
            "    \"full_name\": \"cuttlefishh/python-for-data-analysis\",\n",
            "    \"url\": \"https://github.com/cuttlefishh/python-for-data-analysis\",\n",
            "    \"stars\": 864\n",
            "  }\n",
            "]\n"
          ]
        }
      ],
      "source": [
        "search_results = search_repository(\"python data analysis\", max_pages=2)\n",
        "print(json.dumps(search_results[:7], indent=2))"
      ]
    },
    {
      "cell_type": "code",
      "execution_count": 24,
      "metadata": {
        "id": "42kS4JJQBSQq"
      },
      "outputs": [],
      "source": [
        "def get_repository_commits(owner, repo, max_pages = 5):\n",
        "  # logging.info(f'Getting commits for {owner}/{repo}')\n",
        "  url = f'https://api.github.com/repos/{owner}/{repo}/commits'\n",
        "  commits= []\n",
        "  page_counter = 1\n",
        "\n",
        "  while url and page_counter <= max_pages:\n",
        "    try:\n",
        "        response = requests.get(url, headers=headers, params={'per_page': 100})\n",
        "        response.raise_for_status()\n",
        "        commit = response.json()\n",
        "\n",
        "        for item in commit:\n",
        "          commits.append({\n",
        "              'sha': item['sha'],\n",
        "              'author': item['commit']['author']['name'],\n",
        "              'date': item['commit']['author']['date'],\n",
        "              'message': item['commit']['message']\n",
        "          })\n",
        "\n",
        "          logging.info(f'Page {page_counter} processed correctly, total commits {len(commits)}')\n",
        "\n",
        "          if 'next' in response.links:\n",
        "            url = response.links['next']['url']\n",
        "          else:\n",
        "            url = None\n",
        "          page_counter += 1\n",
        "\n",
        "    except requests.exceptions.RequestException as e:\n",
        "      logging.error(f'Error while getting commits for {owner}/{repo}. (Owner: {owner}, Repo: {repo}) : {e}')\n",
        "\n",
        "  return commits"
      ]
    },
    {
      "cell_type": "code",
      "execution_count": 25,
      "metadata": {
        "colab": {
          "base_uri": "https://localhost:8080/"
        },
        "id": "JGYFVerDFsQv",
        "outputId": "c6e6a2e1-4875-4dab-a760-ac0ee1e662e6"
      },
      "outputs": [
        {
          "name": "stderr",
          "output_type": "stream",
          "text": [
            "2025-06-30 04:27:20,435 - INFO - Getting commits for pandas-dev/pandas\n",
            "2025-06-30 04:27:21,133 - INFO - Page 1 processed correctly, total commits 1\n",
            "2025-06-30 04:27:21,134 - INFO - Page 2 processed correctly, total commits 2\n",
            "2025-06-30 04:27:21,135 - INFO - Page 3 processed correctly, total commits 3\n",
            "2025-06-30 04:27:21,136 - INFO - Page 4 processed correctly, total commits 4\n",
            "2025-06-30 04:27:21,137 - INFO - Page 5 processed correctly, total commits 5\n",
            "2025-06-30 04:27:21,138 - INFO - Page 6 processed correctly, total commits 6\n",
            "2025-06-30 04:27:21,140 - INFO - Page 7 processed correctly, total commits 7\n",
            "2025-06-30 04:27:21,141 - INFO - Page 8 processed correctly, total commits 8\n",
            "2025-06-30 04:27:21,142 - INFO - Page 9 processed correctly, total commits 9\n",
            "2025-06-30 04:27:21,143 - INFO - Page 10 processed correctly, total commits 10\n",
            "2025-06-30 04:27:21,144 - INFO - Page 11 processed correctly, total commits 11\n",
            "2025-06-30 04:27:21,145 - INFO - Page 12 processed correctly, total commits 12\n",
            "2025-06-30 04:27:21,147 - INFO - Page 13 processed correctly, total commits 13\n",
            "2025-06-30 04:27:21,148 - INFO - Page 14 processed correctly, total commits 14\n",
            "2025-06-30 04:27:21,148 - INFO - Page 15 processed correctly, total commits 15\n",
            "2025-06-30 04:27:21,149 - INFO - Page 16 processed correctly, total commits 16\n",
            "2025-06-30 04:27:21,150 - INFO - Page 17 processed correctly, total commits 17\n",
            "2025-06-30 04:27:21,151 - INFO - Page 18 processed correctly, total commits 18\n",
            "2025-06-30 04:27:21,152 - INFO - Page 19 processed correctly, total commits 19\n",
            "2025-06-30 04:27:21,153 - INFO - Page 20 processed correctly, total commits 20\n",
            "2025-06-30 04:27:21,154 - INFO - Page 21 processed correctly, total commits 21\n",
            "2025-06-30 04:27:21,155 - INFO - Page 22 processed correctly, total commits 22\n",
            "2025-06-30 04:27:21,156 - INFO - Page 23 processed correctly, total commits 23\n",
            "2025-06-30 04:27:21,157 - INFO - Page 24 processed correctly, total commits 24\n",
            "2025-06-30 04:27:21,157 - INFO - Page 25 processed correctly, total commits 25\n",
            "2025-06-30 04:27:21,158 - INFO - Page 26 processed correctly, total commits 26\n",
            "2025-06-30 04:27:21,159 - INFO - Page 27 processed correctly, total commits 27\n",
            "2025-06-30 04:27:21,160 - INFO - Page 28 processed correctly, total commits 28\n",
            "2025-06-30 04:27:21,161 - INFO - Page 29 processed correctly, total commits 29\n",
            "2025-06-30 04:27:21,161 - INFO - Page 30 processed correctly, total commits 30\n",
            "2025-06-30 04:27:21,162 - INFO - Page 31 processed correctly, total commits 31\n",
            "2025-06-30 04:27:21,163 - INFO - Page 32 processed correctly, total commits 32\n",
            "2025-06-30 04:27:21,164 - INFO - Page 33 processed correctly, total commits 33\n",
            "2025-06-30 04:27:21,165 - INFO - Page 34 processed correctly, total commits 34\n",
            "2025-06-30 04:27:21,165 - INFO - Page 35 processed correctly, total commits 35\n",
            "2025-06-30 04:27:21,166 - INFO - Page 36 processed correctly, total commits 36\n",
            "2025-06-30 04:27:21,167 - INFO - Page 37 processed correctly, total commits 37\n",
            "2025-06-30 04:27:21,168 - INFO - Page 38 processed correctly, total commits 38\n",
            "2025-06-30 04:27:21,169 - INFO - Page 39 processed correctly, total commits 39\n",
            "2025-06-30 04:27:21,169 - INFO - Page 40 processed correctly, total commits 40\n",
            "2025-06-30 04:27:21,170 - INFO - Page 41 processed correctly, total commits 41\n",
            "2025-06-30 04:27:21,171 - INFO - Page 42 processed correctly, total commits 42\n",
            "2025-06-30 04:27:21,172 - INFO - Page 43 processed correctly, total commits 43\n",
            "2025-06-30 04:27:21,172 - INFO - Page 44 processed correctly, total commits 44\n",
            "2025-06-30 04:27:21,173 - INFO - Page 45 processed correctly, total commits 45\n",
            "2025-06-30 04:27:21,174 - INFO - Page 46 processed correctly, total commits 46\n",
            "2025-06-30 04:27:21,175 - INFO - Page 47 processed correctly, total commits 47\n",
            "2025-06-30 04:27:21,176 - INFO - Page 48 processed correctly, total commits 48\n",
            "2025-06-30 04:27:21,176 - INFO - Page 49 processed correctly, total commits 49\n",
            "2025-06-30 04:27:21,177 - INFO - Page 50 processed correctly, total commits 50\n",
            "2025-06-30 04:27:21,178 - INFO - Page 51 processed correctly, total commits 51\n",
            "2025-06-30 04:27:21,179 - INFO - Page 52 processed correctly, total commits 52\n",
            "2025-06-30 04:27:21,179 - INFO - Page 53 processed correctly, total commits 53\n",
            "2025-06-30 04:27:21,180 - INFO - Page 54 processed correctly, total commits 54\n",
            "2025-06-30 04:27:21,181 - INFO - Page 55 processed correctly, total commits 55\n",
            "2025-06-30 04:27:21,182 - INFO - Page 56 processed correctly, total commits 56\n",
            "2025-06-30 04:27:21,182 - INFO - Page 57 processed correctly, total commits 57\n",
            "2025-06-30 04:27:21,183 - INFO - Page 58 processed correctly, total commits 58\n",
            "2025-06-30 04:27:21,184 - INFO - Page 59 processed correctly, total commits 59\n",
            "2025-06-30 04:27:21,185 - INFO - Page 60 processed correctly, total commits 60\n",
            "2025-06-30 04:27:21,186 - INFO - Page 61 processed correctly, total commits 61\n",
            "2025-06-30 04:27:21,186 - INFO - Page 62 processed correctly, total commits 62\n",
            "2025-06-30 04:27:21,187 - INFO - Page 63 processed correctly, total commits 63\n",
            "2025-06-30 04:27:21,188 - INFO - Page 64 processed correctly, total commits 64\n",
            "2025-06-30 04:27:21,189 - INFO - Page 65 processed correctly, total commits 65\n",
            "2025-06-30 04:27:21,190 - INFO - Page 66 processed correctly, total commits 66\n",
            "2025-06-30 04:27:21,190 - INFO - Page 67 processed correctly, total commits 67\n",
            "2025-06-30 04:27:21,191 - INFO - Page 68 processed correctly, total commits 68\n",
            "2025-06-30 04:27:21,192 - INFO - Page 69 processed correctly, total commits 69\n",
            "2025-06-30 04:27:21,193 - INFO - Page 70 processed correctly, total commits 70\n",
            "2025-06-30 04:27:21,193 - INFO - Page 71 processed correctly, total commits 71\n",
            "2025-06-30 04:27:21,194 - INFO - Page 72 processed correctly, total commits 72\n",
            "2025-06-30 04:27:21,195 - INFO - Page 73 processed correctly, total commits 73\n",
            "2025-06-30 04:27:21,196 - INFO - Page 74 processed correctly, total commits 74\n",
            "2025-06-30 04:27:21,197 - INFO - Page 75 processed correctly, total commits 75\n",
            "2025-06-30 04:27:21,197 - INFO - Page 76 processed correctly, total commits 76\n",
            "2025-06-30 04:27:21,198 - INFO - Page 77 processed correctly, total commits 77\n",
            "2025-06-30 04:27:21,199 - INFO - Page 78 processed correctly, total commits 78\n",
            "2025-06-30 04:27:21,199 - INFO - Page 79 processed correctly, total commits 79\n",
            "2025-06-30 04:27:21,200 - INFO - Page 80 processed correctly, total commits 80\n",
            "2025-06-30 04:27:21,200 - INFO - Page 81 processed correctly, total commits 81\n",
            "2025-06-30 04:27:21,201 - INFO - Page 82 processed correctly, total commits 82\n",
            "2025-06-30 04:27:21,202 - INFO - Page 83 processed correctly, total commits 83\n",
            "2025-06-30 04:27:21,203 - INFO - Page 84 processed correctly, total commits 84\n",
            "2025-06-30 04:27:21,204 - INFO - Page 85 processed correctly, total commits 85\n",
            "2025-06-30 04:27:21,205 - INFO - Page 86 processed correctly, total commits 86\n",
            "2025-06-30 04:27:21,205 - INFO - Page 87 processed correctly, total commits 87\n",
            "2025-06-30 04:27:21,206 - INFO - Page 88 processed correctly, total commits 88\n",
            "2025-06-30 04:27:21,207 - INFO - Page 89 processed correctly, total commits 89\n",
            "2025-06-30 04:27:21,207 - INFO - Page 90 processed correctly, total commits 90\n",
            "2025-06-30 04:27:21,208 - INFO - Page 91 processed correctly, total commits 91\n",
            "2025-06-30 04:27:21,209 - INFO - Page 92 processed correctly, total commits 92\n",
            "2025-06-30 04:27:21,209 - INFO - Page 93 processed correctly, total commits 93\n",
            "2025-06-30 04:27:21,210 - INFO - Page 94 processed correctly, total commits 94\n",
            "2025-06-30 04:27:21,211 - INFO - Page 95 processed correctly, total commits 95\n",
            "2025-06-30 04:27:21,212 - INFO - Page 96 processed correctly, total commits 96\n",
            "2025-06-30 04:27:21,212 - INFO - Page 97 processed correctly, total commits 97\n",
            "2025-06-30 04:27:21,213 - INFO - Page 98 processed correctly, total commits 98\n",
            "2025-06-30 04:27:21,214 - INFO - Page 99 processed correctly, total commits 99\n",
            "2025-06-30 04:27:21,214 - INFO - Page 100 processed correctly, total commits 100\n"
          ]
        },
        {
          "name": "stdout",
          "output_type": "stream",
          "text": [
            "[\n",
            "  {\n",
            "    \"sha\": \"35b0d1dcadf9d60722c055ee37442dc76a29e64c\",\n",
            "    \"author\": \"Leo Gordon\",\n",
            "    \"date\": \"2025-06-25T15:57:56Z\",\n",
            "    \"message\": \"TST: Increase test coverage for pandas.io.formats.excel.py (#61697)\\n\\n* Added coverage 314-349 and change in excel.py\\n\\n* Adding further coverage for excel.py\\n\\n* Whitespace changes (whoops)\\n\\n* Whitespace changes (whoops)\\n\\n* Update .gitignore\\n\\n* Update test_common.py\"\n",
            "  },\n",
            "  {\n",
            "    \"sha\": \"09f7cc0a3c7805a036777456e87fdfe73129b6fc\",\n",
            "    \"author\": \"Niruta Talwekar\",\n",
            "    \"date\": \"2025-06-25T11:23:02Z\",\n",
            "    \"message\": \"DOC: update Slack invite link in community dos (#61704)\"\n",
            "  }\n",
            "]\n"
          ]
        }
      ],
      "source": [
        "owner = 'pandas-dev'\n",
        "repo_name = 'pandas'\n",
        "commits_data = get_repository_commits(owner, repo_name, max_pages=2)\n",
        "print(json.dumps(commits_data[:2], indent=2))"
      ]
    },
    {
      "cell_type": "code",
      "execution_count": 34,
      "metadata": {
        "id": "j2-oVxc_F3eX"
      },
      "outputs": [],
      "source": [
        "def get_repo_contents(owner, repo, path=\"\"):\n",
        "  url = f\"https://api.github.com/repos/{owner}/{repo}/contents/{path}\"\n",
        "  try:\n",
        "      response = requests.get(url, headers=headers)\n",
        "      response.raise_for_status()\n",
        "      contents = response.json()\n",
        "      if isinstance(contents, list):\n",
        "        contents_list = []\n",
        "        for item in contents:\n",
        "          contents_list.append({\n",
        "              'name': item['name'],\n",
        "              'type': item['type'],\n",
        "              'download_url': item.get('download_url'),\n",
        "              'size': item.get('size', 0)\n",
        "          })\n",
        "        return contents_list\n",
        "      else:\n",
        "        return {\n",
        "                'name': contents.get('name'),\n",
        "                'type': contents.get('type'),\n",
        "                'download_url': contents.get('download_url'),\n",
        "                'size': contents.get('size', 0),\n",
        "                'encoding': contents.get('encoding')\n",
        "            }\n",
        "  except requests.exceptions.HTTPError as e:\n",
        "    logging.error(f\"Error fetching repository contents: {e}\")\n",
        "    return {\"error\": e.response.json()}\n",
        "  except Exception as e:\n",
        "    logging.error(f\"Error fetching repository contents: {e}\")\n",
        "    return {\"error\": str(e)}\n"
      ]
    },
    {
      "cell_type": "code",
      "execution_count": 42,
      "metadata": {
        "colab": {
          "base_uri": "https://localhost:8080/"
        },
        "id": "WZL2XvcfH_W9",
        "outputId": "31685f0b-5a99-4766-8e73-10e6e59731ea"
      },
      "outputs": [
        {
          "name": "stdout",
          "output_type": "stream",
          "text": [
            "[\n",
            "  {\n",
            "    \"name\": \".editorconfig\",\n",
            "    \"type\": \"file\",\n",
            "    \"download_url\": \"https://raw.githubusercontent.com/google-gemini/deprecated-generative-ai-python/main/.editorconfig\",\n",
            "    \"size\": 222\n",
            "  },\n",
            "  {\n",
            "    \"name\": \".github\",\n",
            "    \"type\": \"dir\",\n",
            "    \"download_url\": null,\n",
            "    \"size\": 0\n",
            "  }\n",
            "]\n"
          ]
        }
      ],
      "source": [
        "owner = 'google'\n",
        "repo = 'generative-ai-python'\n",
        "path = ''\n",
        "repo_contents = get_repo_contents(owner, repo, path)\n",
        "print(json.dumps(repo_contents[:2], indent=2))"
      ]
    }
  ],
  "metadata": {
    "colab": {
      "provenance": []
    },
    "kernelspec": {
      "display_name": "Python 3",
      "name": "python3"
    },
    "language_info": {
      "name": "python"
    }
  },
  "nbformat": 4,
  "nbformat_minor": 0
}
